{
 "cells": [
  {
   "cell_type": "code",
   "execution_count": 51,
   "metadata": {},
   "outputs": [],
   "source": [
    "import json\n",
    "import pandas as pd\n",
    "import numpy as np\n",
    "file_dir = '/Users/galmomani14/Desktop/Movies-ETL.-/kaggle/'"
   ]
  },
  {
   "cell_type": "code",
   "execution_count": 52,
   "metadata": {},
   "outputs": [],
   "source": [
    "# 1. Create a function that takes in three arguments;\n",
    "# Wikipedia data, Kaggle metadata, and MovieLens rating data (from Kaggle)\n",
    "wiki_data= f'{file_dir}wikipedia-movies copy.json'\n",
    "metadata_data=f'{file_dir}movies_metadata.csv'\n",
    "ratings_data=f'{file_dir}ratings.csv'\n"
   ]
  },
  {
   "cell_type": "code",
   "execution_count": 53,
   "metadata": {},
   "outputs": [
    {
     "ename": "SyntaxError",
     "evalue": "'return' outside function (<ipython-input-53-38c864e9d9ff>, line 8)",
     "output_type": "error",
     "traceback": [
      "\u001b[0;36m  File \u001b[0;32m\"<ipython-input-53-38c864e9d9ff>\"\u001b[0;36m, line \u001b[0;32m8\u001b[0m\n\u001b[0;31m    return metadata_data,ratings_data,wiki_data\u001b[0m\n\u001b[0m                                               ^\u001b[0m\n\u001b[0;31mSyntaxError\u001b[0m\u001b[0;31m:\u001b[0m 'return' outside function\n"
     ]
    }
   ],
   "source": [
    "# 2. Read in the kaggle metadata and MovieLens ratings CSV files as Pandas DataFrames.\n",
    "def extract_transform_load(kaggle_metadata,ratings_data,wiki_data):\n",
    "            kaggle_metadata = pd.read_csv(kaggle_metadata, low_memory=False)\n",
    "ratings = pd.read_csv(ratings_data)\n",
    "with open(wiki_data, mode='r') as file:\n",
    "            wiki_movies_raw = json.load(file)\n",
    "wiki_movies_df = pd.DataFrame(wiki_movies_raw)\n",
    "return metadata_data,ratings_data,wiki_data\n",
    "\n",
    "\n",
    "Kaggle_dateframe_creater(metadata_data,ratings_data,wiki_data)"
   ]
  },
  {
   "cell_type": "code",
   "execution_count": null,
   "metadata": {},
   "outputs": [],
   "source": [
    "    # 5. Return the three DataFrames\n",
    "extract_transform_load(metadata_data,ratings_data,wiki_data)"
   ]
  },
  {
   "cell_type": "code",
   "execution_count": null,
   "metadata": {},
   "outputs": [],
   "source": [
    "# 6 Create the path to your file directory and variables for the three files. \n",
    "file_dir = '/Users/galmomani14/Desktop/Movies-ETL.-/kaggle/'\n",
    "# Wikipedia data\n",
    "wiki_file = f'{file_dir}/wikipedia.movies.json'\n",
    "# Kaggle metadata\n",
    "kaggle_file = f'{file_dir}/movies_metadata.csv'\n",
    "# MovieLens rating data.\n",
    "ratings_file = f'{file_dir}/ratings.csv'\n",
    "\n",
    "# 7. Set the three variables in Step 6 equal to the function created in Step 1.\n",
    "wiki_file, kaggle_file, ratings_file = extract_transform_load(kaggle_file,ratings_data,wiki_data)"
   ]
  },
  {
   "cell_type": "code",
   "execution_count": null,
   "metadata": {},
   "outputs": [],
   "source": [
    "# 8. Set the DataFrames from the return statement equal to the file names in Step 6. \n",
    "wiki_movies_df = wiki_file\n",
    "kaggle_metadata = kaggle_file\n",
    "ratings = ratings_file"
   ]
  },
  {
   "cell_type": "code",
   "execution_count": null,
   "metadata": {},
   "outputs": [],
   "source": [
    "# 9. Check the wiki_movies_df DataFrame.\n",
    "wiki_movies_df.head()"
   ]
  },
  {
   "cell_type": "code",
   "execution_count": null,
   "metadata": {},
   "outputs": [],
   "source": [
    "# 10. Check the kaggle_metadata DataFrame.\n",
    "kaggle_metadata.head()"
   ]
  },
  {
   "cell_type": "code",
   "execution_count": null,
   "metadata": {},
   "outputs": [],
   "source": [
    "# 11. Check the ratings DataFrame.\n",
    "ratings.head()"
   ]
  },
  {
   "cell_type": "code",
   "execution_count": null,
   "metadata": {},
   "outputs": [],
   "source": []
  }
 ],
 "metadata": {
  "kernelspec": {
   "display_name": "PythonData",
   "language": "python",
   "name": "pythondata"
  },
  "language_info": {
   "codemirror_mode": {
    "name": "ipython",
    "version": 3
   },
   "file_extension": ".py",
   "mimetype": "text/x-python",
   "name": "python",
   "nbconvert_exporter": "python",
   "pygments_lexer": "ipython3",
   "version": "3.7.7"
  }
 },
 "nbformat": 4,
 "nbformat_minor": 2
}
